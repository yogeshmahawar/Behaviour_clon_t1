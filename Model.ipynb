{
 "cells": [
  {
   "cell_type": "code",
   "execution_count": 1,
   "metadata": {},
   "outputs": [],
   "source": [
    "#Read the data\n",
    "import pandas as pd\n",
    "import numpy as np\n",
    "import cv2\n",
    "from PIL import Image\n",
    "\n",
    "#df= pd.read_csv('driving_log.csv')\n",
    "#heading = ['center','left','right']\n",
    "#image_set = []\n",
    "#measurements  = []\n",
    "\n",
    "def load_images(df,heading):\n",
    "    img_paths = df[heading]    \n",
    "    images = np.array([np.array(Image.open(fname)) for fname in img_paths])   \n",
    "    return images\n",
    "\n",
    "#img_paths = df['center']    \n",
    "#image_set = np.array([np.array(Image.open(fname)) for fname in img_paths])\n",
    "#measurements = np.array(df['steering'])\n",
    "#print(img_paths)                        \n",
    "                        \n",
    "#aug_images, aug_measures = [] , []\n",
    "\n",
    "#x_train = np.array(image_set)\n",
    "#y_train = measurements.astype(float)\n",
    "\n"
   ]
  },
  {
   "cell_type": "code",
   "execution_count": 4,
   "metadata": {
    "scrolled": false
   },
   "outputs": [
    {
     "name": "stdout",
     "output_type": "stream",
     "text": [
      "[0.0, 0.0, 0.0, 22.14829]\n"
     ]
    }
   ],
   "source": [
    "import csv\n",
    "from PIL import Image\n",
    "samples = []\n",
    "car_images = []\n",
    "action_measures = []\n",
    "\n",
    "\n",
    "with open('./driving_log.csv') as csvfile:\n",
    "    reader = csv.reader(csvfile)\n",
    "    for line in reader:\n",
    "        samples.append(line)\n",
    "\n",
    "\n",
    "for row in samples[1:]:        \n",
    "    steering_center = float(row[3])\n",
    "    throttle = float(row[4])\n",
    "    brake = float(row[5])\n",
    "    speed = float(row[6])\n",
    "    # create adjusted steering measurements for the side camera images\n",
    "    correction = 0.2 # this is a parameter to tune\n",
    "    steering_left = steering_center + correction\n",
    "    steering_right = steering_center - correction\n",
    "    # read in images from center, left and right cameras\n",
    "    path = \"\" # fill in the path to your training IMG directory\n",
    "    img_center = np.asarray(Image.open(row[0].strip()))\n",
    "    action_center = [steering_center,throttle,brake,speed]    \n",
    "    img_left = np.asarray(Image.open(row[1].strip()))\n",
    "    action_left = [steering_left,throttle,brake,speed]\n",
    "    #print(row[0].strip())\n",
    "    img_right = np.asarray(Image.open(row[2].strip()))\n",
    "    action_right = [steering_center,throttle,brake,speed]\n",
    "    # add images and angles to data set\n",
    "    car_images.extend([img_center, img_left, img_right])\n",
    "    action_measures.extend([action_center,action_left,action_right])        \n",
    "\n",
    "print(action_measures[0])        \n",
    "\n"
   ]
  },
  {
   "cell_type": "code",
   "execution_count": null,
   "metadata": {},
   "outputs": [],
   "source": [
    "def aug_image_set(car_images,action_measures):\n",
    "    aug_images = []\n",
    "    aug_measures = []\n",
    "    for img,measures in zip(car_images, action_measures):\n",
    "        aug_images.append(img)\n",
    "        aug_measures.append(measures)    \n",
    "        aug_images.append(cv2.flip(img,1))\n",
    "        measures[0] = measures[0]* -1\n",
    "        aug_measures.append(measures)\n",
    "    return [aug_images,aug_measures]\n",
    "\n",
    "\n",
    "car_images , action_measures = aug_image_set(car_images, action_measures)\n",
    "\n",
    "from sklearn.model_selection import train_test_split\n",
    "train_samples, validation_samples = train_test_split(samples, test_size=0.2)"
   ]
  },
  {
   "cell_type": "code",
   "execution_count": null,
   "metadata": {},
   "outputs": [],
   "source": [
    "def generator(samples, batch_size=32):\n",
    "    num_samples = len(samples)\n",
    "    while 1: # Loop forever so the generator never terminates\n",
    "        shuffle(samples)\n",
    "        for offset in range(0, num_samples, batch_size):\n",
    "            batch_samples = samples[offset:offset+batch_size]\n",
    "\n",
    "            images = []\n",
    "            angles = []\n",
    "            for batch_sample in batch_samples:\n",
    "                name = './IMG/'+batch_sample[0].split('/')[-1]\n",
    "                center_image = cv2.imread(name)\n",
    "                center_angle = float(batch_sample[3])\n",
    "                images.append(center_image)\n",
    "                angles.append(center_angle)\n",
    "\n",
    "            # trim image to only see section with road\n",
    "            X_train = np.array(images)\n",
    "            y_train = np.array(angles)\n",
    "            yield sklearn.utils.shuffle(X_train, y_train)\n",
    "\n",
    "# compile and train the model using the generator function\n",
    "train_generator = generator(train_samples, batch_size=32)\n",
    "validation_generator = generator(validation_samples, batch_size=32)"
   ]
  },
  {
   "cell_type": "code",
   "execution_count": 15,
   "metadata": {},
   "outputs": [
    {
     "name": "stdout",
     "output_type": "stream",
     "text": [
      "____________________________________________________________________________________________________\n",
      "Layer (type)                     Output Shape          Param #     Connected to                     \n",
      "====================================================================================================\n",
      "lambda_1 (Lambda)                (None, 160, 320, 3)   0           lambda_input_1[0][0]             \n",
      "____________________________________________________________________________________________________\n",
      "flatten_3 (Flatten)              (None, 153600)        0           lambda_1[0][0]                   \n",
      "____________________________________________________________________________________________________\n",
      "dense_3 (Dense)                  (None, 1)             153601      flatten_3[0][0]                  \n",
      "====================================================================================================\n",
      "Total params: 153,601\n",
      "Trainable params: 153,601\n",
      "Non-trainable params: 0\n",
      "____________________________________________________________________________________________________\n",
      "Train on 6428 samples, validate on 1608 samples\n",
      "Epoch 1/10\n",
      "6428/6428 [==============================] - 16s - loss: 2.8368 - val_loss: 0.5476\n",
      "Epoch 2/10\n",
      "6428/6428 [==============================] - 15s - loss: 1.0293 - val_loss: 1.3689\n",
      "Epoch 3/10\n",
      "6428/6428 [==============================] - 15s - loss: 2.5567 - val_loss: 2.5916\n",
      "Epoch 4/10\n",
      "6428/6428 [==============================] - 15s - loss: 3.5121 - val_loss: 2.3570\n",
      "Epoch 5/10\n",
      "6428/6428 [==============================] - 15s - loss: 3.0114 - val_loss: 4.1329\n",
      "Epoch 6/10\n",
      "6428/6428 [==============================] - 15s - loss: 5.6728 - val_loss: 6.0160\n",
      "Epoch 7/10\n",
      "6428/6428 [==============================] - 15s - loss: 5.2784 - val_loss: 3.0944\n",
      "Epoch 8/10\n",
      "6428/6428 [==============================] - 15s - loss: 3.8364 - val_loss: 4.2638\n",
      "Epoch 9/10\n",
      "6428/6428 [==============================] - 15s - loss: 2.4288 - val_loss: 1.4497\n",
      "Epoch 10/10\n",
      "6428/6428 [==============================] - 15s - loss: 2.3878 - val_loss: 2.8412\n"
     ]
    }
   ],
   "source": [
    "#Create model\n",
    "\n",
    "from keras.models import  Sequential\n",
    "from keras.layers import  Dense, Flatten, Lambda\n",
    "\n",
    "\n",
    "#to be defined as nvidia CUDANN\n",
    "model = Sequential()\n",
    "model.add(Lambda( lambda x: x/ 255.0-0.5 , input_shape = (160,320,3)))\n",
    "\n",
    "model.add(Flatten())\n",
    "model.add(Dense(1))\n",
    "\n",
    "model.compile(loss='mse',optimizer = 'adam')\n",
    "model.summary()\n",
    "model.fit(x_train,y_train, validation_split = 0.2 , shuffle='true')\n",
    "\n",
    "model.save('model.h5')\n"
   ]
  },
  {
   "cell_type": "code",
   "execution_count": null,
   "metadata": {},
   "outputs": [],
   "source": []
  }
 ],
 "metadata": {
  "kernelspec": {
   "display_name": "Python 3",
   "language": "python",
   "name": "python3"
  },
  "language_info": {
   "codemirror_mode": {
    "name": "ipython",
    "version": 3
   },
   "file_extension": ".py",
   "mimetype": "text/x-python",
   "name": "python",
   "nbconvert_exporter": "python",
   "pygments_lexer": "ipython3",
   "version": "3.5.2"
  },
  "widgets": {
   "state": {},
   "version": "1.1.2"
  }
 },
 "nbformat": 4,
 "nbformat_minor": 2
}
